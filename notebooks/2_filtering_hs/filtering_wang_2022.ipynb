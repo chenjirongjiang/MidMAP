{
 "cells": [
  {
   "cell_type": "markdown",
   "id": "962e5b1f",
   "metadata": {},
   "source": [
    "# Filtering atlas: Wang"
   ]
  },
  {
   "cell_type": "markdown",
   "id": "1b4e4bc6",
   "metadata": {},
   "source": [
    "<div class=\"alert alert-warning\">\n",
    "\n",
    "**What this notebook does**\n",
    "\n",
    "In this notebook, the h5ad files of Altena et al. will be filtered based on previously calculated quality control metrics such as doublet score, total counts, and percentages mitochondrial and ribosomal counts. Resulting datasets are written to filtered_[atlas_name]_base.h5ad files.\n",
    "</div>  "
   ]
  },
  {
   "cell_type": "markdown",
   "id": "697e5350",
   "metadata": {},
   "source": [
    "### Loading libraries\n",
    "Using sc2_seurat environment"
   ]
  },
  {
   "cell_type": "code",
   "execution_count": null,
   "id": "97215f4f",
   "metadata": {
    "scrolled": true
   },
   "outputs": [],
   "source": [
    "import sys\n",
    "print(sys.executable)\n",
    "print(sys.version)\n",
    "print(sys.version_info)"
   ]
  },
  {
   "cell_type": "code",
   "execution_count": null,
   "id": "7a1e3ad4",
   "metadata": {},
   "outputs": [],
   "source": [
    "from IPython.display import display, HTML\n",
    "display(HTML(\"<style>.container { width:90% !important; }</style>\"))#embed HTML within IPython notebook and make containers 90% of screen\n",
    "import numpy as np\n",
    "import pandas as pd\n",
    "import scanpy as sc\n",
    "import seaborn as sns\n",
    "import os\n",
    "import matplotlib.pyplot as plt\n",
    "\n",
    "%matplotlib inline\n",
    "sc.settings.verbosity = 0             # verbosity: errors (0), warnings (1), info (2), hints (3)\n",
    "sc.settings.set_figure_params(dpi=80, facecolor='white') #figure resolution and background color\n",
    "\n",
    "# This is used\n",
    "# os.path.join('data/'+object_names[i][6:10]+'_preprocessed.h5ad')\n",
    "#sc.logging.print_versions()"
   ]
  },
  {
   "cell_type": "markdown",
   "id": "7b03dcdd",
   "metadata": {},
   "source": [
    "## Load data\n",
    "The filtered .h5ad  files from preprocessing section."
   ]
  },
  {
   "cell_type": "code",
   "execution_count": null,
   "id": "38a2d919",
   "metadata": {},
   "outputs": [],
   "source": [
    "path='/home/hers_basak/jjiang/jack/outputs/deliverables/1_preprocessing/data/preprocessed_wang_S'\n",
    "suffix='.h5ad'\n",
    "\n",
    "S06=f'{path}06{suffix}'\n",
    "S07=f'{path}07{suffix}'\n",
    "S09=f'{path}09{suffix}'\n",
    "S11=f'{path}11{suffix}'\n",
    "S16=f'{path}16{suffix}'\n",
    "S22=f'{path}22{suffix}'\n",
    "S23=f'{path}23{suffix}'\n",
    "S24=f'{path}24{suffix}'\n",
    "S33=f'{path}33{suffix}'\n",
    "S36=f'{path}36{suffix}'\n"
   ]
  },
  {
   "cell_type": "code",
   "execution_count": null,
   "id": "502eae17",
   "metadata": {},
   "outputs": [],
   "source": [
    "!ls /home/hers_basak/jjiang/jack/outputs/deliverables/1_preprocessing/data/"
   ]
  },
  {
   "cell_type": "code",
   "execution_count": null,
   "id": "66b247fb",
   "metadata": {},
   "outputs": [],
   "source": [
    "#set data path\n",
    "os.chdir('/home/hers_basak/jjiang/jack/outputs/deliverables/2_filtering')"
   ]
  },
  {
   "cell_type": "code",
   "execution_count": null,
   "id": "c2709c4f",
   "metadata": {},
   "outputs": [],
   "source": [
    "os.getcwd()"
   ]
  },
  {
   "cell_type": "code",
   "execution_count": null,
   "id": "f138cc3e",
   "metadata": {},
   "outputs": [],
   "source": [
    "!ls"
   ]
  },
  {
   "cell_type": "code",
   "execution_count": null,
   "id": "30fee519",
   "metadata": {},
   "outputs": [],
   "source": [
    "files = [S06,S07,S09,S11,S16,S22,S23,S24,S33,S36]\n"
   ]
  },
  {
   "cell_type": "code",
   "execution_count": null,
   "id": "3e62c582",
   "metadata": {},
   "outputs": [],
   "source": [
    "names = ['S06','S07','S09','S11','S16','S22','S23','S24','S33','S36']"
   ]
  },
  {
   "cell_type": "code",
   "execution_count": null,
   "id": "8957c65f",
   "metadata": {
    "scrolled": true
   },
   "outputs": [],
   "source": [
    "object_names_preprocessed =list()\n",
    "numberobj = len(files)\n",
    "\n",
    "for i in range(numberobj):\n",
    "    object_names_preprocessed.append(\"adata\"+\"_\"+names[i]+\"_\"+\"preprocessed\")\n",
    "    locals()[object_names_preprocessed[i]] = sc.read(files[i]) \n",
    "    print(object_names_preprocessed[i],' is loaded')"
   ]
  },
  {
   "cell_type": "code",
   "execution_count": null,
   "id": "20fe1c7e",
   "metadata": {
    "scrolled": true
   },
   "outputs": [],
   "source": [
    "print(np.mean(adata_S06_preprocessed.obs[adata_S06_preprocessed.obs['predicted_doublet'] =='True']['total_counts']))"
   ]
  },
  {
   "cell_type": "markdown",
   "id": "ee0aa188",
   "metadata": {},
   "source": [
    "## Preprocess - Doublets"
   ]
  },
  {
   "cell_type": "markdown",
   "id": "7b6aaca1",
   "metadata": {},
   "source": [
    "<div class=\"alert alert-warning\">\n",
    "\n",
    "**Important note about doublet filtering**\n",
    "    \n",
    "Some samples have non 'bimodal' distribution expression, which results in the automatic doublet score threshold to be very high and suspicious doublets to not be filtered out. \\\n",
    "    **TO DO (only when distribution is not bimodal causing the automatic threshold to be too high)** \\\n",
    "I decided to manually set the threshold to 0.20 to see if this captures the suspicious cells. Furthermore to see in UMAP if these cells cluster together or are more dispersed.\n",
    "    \n",
    "\n",
    "</div>  "
   ]
  },
  {
   "cell_type": "markdown",
   "id": "e9923f6d",
   "metadata": {},
   "source": [
    "### Check gene counts of high doublet scores\n",
    "Note the graph shows counts excluding mt ones."
   ]
  },
  {
   "cell_type": "markdown",
   "id": "ff5cf3ce",
   "metadata": {},
   "source": [
    "Due to the very high automatic thresholds for many samples (0.5-0.7), I decided to filter these samples on manual thresholds."
   ]
  },
  {
   "cell_type": "code",
   "execution_count": null,
   "id": "c33c1aec",
   "metadata": {
    "scrolled": true
   },
   "outputs": [],
   "source": [
    "thr =[0.2 if i in [2,3,4,5,6,7,9] else 'Recommended' for i in range(numberobj)]\n",
    "for i in range(numberobj):\n",
    "    # Filter based on exception threshold rather than predicted doublet\n",
    "    if i in [2,3,4,5,6,7,9]:\n",
    "        mean_counts_high = int(np.mean(locals()[object_names_preprocessed[i]].obs[locals()[object_names_preprocessed[i]].obs['doublet_score'] < thr[i]]['total_counts']))\n",
    "        mean_genes_high = int(np.mean(locals()[object_names_preprocessed[i]].obs[locals()[object_names_preprocessed[i]].obs['doublet_score'] <thr[i]]['n_genes']))\n",
    "    else:\n",
    "        mean_counts_high = float(np.mean(locals()[object_names_preprocessed[i]].obs[locals()[object_names_preprocessed[i]].obs['predicted_doublet'] =='True']['total_counts']))\n",
    "        mean_genes_high = float(np.mean(locals()[object_names_preprocessed[i]].obs[locals()[object_names_preprocessed[i]].obs['predicted_doublet'] =='True']['n_genes']))\n",
    "        \n",
    "    mean_counts = int(np.mean(locals()[object_names_preprocessed[i]].obs['total_counts']))\n",
    "    mean_genes = int(np.mean(locals()[object_names_preprocessed[i]].obs['n_genes']))\n",
    "    \n",
    "    \n",
    "    filtered_cells = [mean_counts_high,mean_genes_high]\n",
    "    all_cells = [mean_counts,mean_genes]\n",
    "    index = ['counts (no mt)', 'genes']\n",
    "    \n",
    "    df = pd.DataFrame({f'filtered cells(>{thr[i]})': filtered_cells, 'all cells': all_cells}, index=index)\n",
    "    ax = df.plot.bar(rot=0, title = f'{names[i]}')\n",
    "    \n",
    "    #print(locals()[object_names[i]].obs[locals()[object_names[i]].obs['doublet_score'] >0.25][['doublet_score','total_counts']])\n"
   ]
  },
  {
   "cell_type": "code",
   "execution_count": null,
   "id": "dabce776",
   "metadata": {},
   "outputs": [],
   "source": [
    "np.random.seed(41)\n",
    "%matplotlib inline"
   ]
  },
  {
   "cell_type": "markdown",
   "id": "c245e231",
   "metadata": {},
   "source": [
    "### Filtering - Doublets\n",
    "Data points between clusters and in the middle of clusters with high count values are more likely to be doublets, but we can't be sure."
   ]
  },
  {
   "cell_type": "code",
   "execution_count": null,
   "id": "6107a617",
   "metadata": {},
   "outputs": [],
   "source": []
  },
  {
   "cell_type": "code",
   "execution_count": null,
   "id": "271ade32",
   "metadata": {
    "scrolled": true
   },
   "outputs": [],
   "source": [
    "#max_doub_score = 0.2 \n",
    "\n",
    "for i in range(numberobj):\n",
    "    if i in [2,3,4,5,6,7,9]:\n",
    "        print(object_names_preprocessed[i],': custom filtered!')\n",
    "        locals()[object_names_preprocessed[i]] = locals()[object_names_preprocessed[i]][locals()[object_names_preprocessed[i]].obs['doublet_score'] < thr[i]]\n",
    "    else:\n",
    "        locals()[object_names_preprocessed[i]] = locals()[object_names_preprocessed[i]][locals()[object_names_preprocessed[i]].obs['predicted_doublet'] == 'False']\n",
    "        print(object_names_preprocessed[i],': filtered!')"
   ]
  },
  {
   "cell_type": "markdown",
   "id": "fa910fbf",
   "metadata": {},
   "source": [
    "Recalculate values, especially total_counts and without ribo/mito pct change, because there is no mito genes anymore"
   ]
  },
  {
   "cell_type": "code",
   "execution_count": null,
   "id": "63b08f74",
   "metadata": {
    "scrolled": false
   },
   "outputs": [],
   "source": [
    "for i in range(numberobj):\n",
    "    sc.pp.calculate_qc_metrics(locals()[object_names_preprocessed[i]], expr_type='counts', var_type='genes', qc_vars=(), percent_top= (), layer= None, use_raw= False, inplace=True, log1p=True)\n",
    "    print(object_names_preprocessed[i],': updated!')"
   ]
  },
  {
   "cell_type": "markdown",
   "id": "68e0833c",
   "metadata": {},
   "source": [
    "## Preprocess - Mitochondrial and Ribosomal counts"
   ]
  },
  {
   "cell_type": "code",
   "execution_count": null,
   "id": "a7689b6f",
   "metadata": {
    "scrolled": true
   },
   "outputs": [],
   "source": [
    "for i in range(numberobj):\n",
    "    print(names[i])\n",
    "    print(locals()[object_names_preprocessed[i]])"
   ]
  },
  {
   "cell_type": "code",
   "execution_count": null,
   "id": "ede240c4",
   "metadata": {
    "scrolled": true
   },
   "outputs": [],
   "source": [
    "sc.set_figure_params(figsize=[5,5])\n",
    "for i in range(numberobj):\n",
    "    sc.pl.scatter(locals()[object_names_preprocessed[i]], x='total_counts', y='pct_counts_mt',color = 'pct_counts_mt',show=False)"
   ]
  },
  {
   "cell_type": "code",
   "execution_count": null,
   "id": "eee8c658",
   "metadata": {
    "scrolled": true
   },
   "outputs": [],
   "source": [
    "sc.set_figure_params(figsize=[5,5])\n",
    "for i in range(numberobj):\n",
    "    sc.pl.scatter(locals()[object_names_preprocessed[i]], x='total_counts', y='pct_counts_ribo',color = 'pct_counts_ribo',show=False)"
   ]
  },
  {
   "cell_type": "markdown",
   "id": "155bf809",
   "metadata": {},
   "source": [
    "### Filtering - Mitochondrial% and Ribosomal%\n",
    "Try 10% first just like many other papers, see later if they form clusters..."
   ]
  },
  {
   "cell_type": "code",
   "execution_count": null,
   "id": "2f88ddb9",
   "metadata": {},
   "outputs": [],
   "source": [
    "max_pct_mt = 10.0 #%, only filters 3 cell or smth\n",
    "max_pct_ribo = 10.0 #%\n",
    "for i in range(numberobj):\n",
    "    locals()[object_names_preprocessed[i]] = locals()[object_names_preprocessed[i]][locals()[object_names_preprocessed[i]].obs['pct_counts_mt'] < max_pct_mt]\n",
    "    locals()[object_names_preprocessed[i]] = locals()[object_names_preprocessed[i]][locals()[object_names_preprocessed[i]].obs['pct_counts_ribo'] < max_pct_ribo]"
   ]
  },
  {
   "cell_type": "markdown",
   "id": "3b05e323",
   "metadata": {},
   "source": [
    "## Preprocess - UMIs and gene counts\n",
    "Here, I want to use some different techniques to plot the data. This is not always necessary, however, you may want to have a close look at your data when you recieve something new. Seaborn package lets us make publication quality and diver plots, while a custom code from the Theis lab, built on Bokeh library, enables interactive plots "
   ]
  },
  {
   "cell_type": "code",
   "execution_count": null,
   "id": "7c7476c7",
   "metadata": {},
   "outputs": [],
   "source": [
    "for i in range(numberobj):\n",
    "    print(locals()[object_names_preprocessed[i]] )"
   ]
  },
  {
   "cell_type": "code",
   "execution_count": null,
   "id": "2f3bea5e",
   "metadata": {},
   "outputs": [],
   "source": [
    "for i in range(numberobj):\n",
    "    plt.figure()\n",
    "    total_counts = locals()[object_names_preprocessed[i]].obs['log1p_total_counts'].sort_values(ascending = False)\n",
    "    index = range(len(total_counts))\n",
    "    plot = sns.lineplot( x = index, y=total_counts )\n",
    "    plot.set(xlabel='cells')\n",
    "    plt.show()"
   ]
  },
  {
   "cell_type": "markdown",
   "id": "1d166315",
   "metadata": {},
   "source": [
    "### Seaborn hex plots\n",
    "These plots allow us to see the distribution of the number of genes and reads, as well as where they are most concentrated (dark colors)"
   ]
  },
  {
   "cell_type": "code",
   "execution_count": null,
   "id": "1e120b88",
   "metadata": {},
   "outputs": [],
   "source": [
    "for i in range(numberobj):\n",
    "    sns.jointplot( x= \"total_counts\", y= \"n_genes\", data=locals()[object_names_preprocessed[i]].obs, kind=\"hex\",xlim=[0,15000], ylim=[0,5000])\n",
    "#kind : { \"scatter\" | \"reg\" | \"resid\" | \"kde\" | \"hex\" }"
   ]
  },
  {
   "cell_type": "markdown",
   "id": "c7461294",
   "metadata": {},
   "source": [
    "### combined histogram plots\n",
    "We can compare all libraries to each other using a seaborn histplot"
   ]
  },
  {
   "cell_type": "code",
   "execution_count": null,
   "id": "8ae68dc6",
   "metadata": {
    "scrolled": false
   },
   "outputs": [],
   "source": [
    "\n",
    "for i in range(numberobj):\n",
    "    plot = sns.histplot(data=locals()[object_names_preprocessed[i]].obs,x= 'total_counts')\n",
    "    plot.set_xlabel(\"number of UMIs per cell\", fontsize = 12)\n",
    "    plot.set_ylabel(\"frequency\", fontsize = 14)\n",
    "    plot.set_xlim(0,50000)"
   ]
  },
  {
   "cell_type": "code",
   "execution_count": null,
   "id": "421c5912",
   "metadata": {},
   "outputs": [],
   "source": [
    "\n",
    "for i in range(numberobj):\n",
    "    plot2 = sns.histplot(data=locals()[object_names_preprocessed[i]].obs,x= 'total_counts')\n",
    "    plot2.set_xlabel(\"number of UMIs per cell\", fontsize = 12)\n",
    "    plot2.set_ylabel(\"frequency\", fontsize = 14)\n",
    "    plot2.set_xlim(50000,100000)\n",
    "    plot2.set_ylim(0,50)"
   ]
  },
  {
   "cell_type": "markdown",
   "id": "de77a7a0",
   "metadata": {},
   "source": [
    "### Filtering - UMI and Gene \n",
    "Cells with unusual **low/high UMI** counts should be removed. Low counts could be droplets with only ambient RNA while high counts could be doublets. Here we won't filter out cells with high counts as they might represent a celltype. <br>\n",
    "Similarly cells with unusual **low/high unique gene** counts should be removed. Low gene counts could be droplets with only ambient RNA while high gene counts could be multiplets. <br>\n",
    "Nonetheless, these thresholds are sample specific and determining them is an iterative process. <br> \n",
    "\n",
    "Atlases generally don't have a max gene/UMI threshold as doublets are mostly filtered through methods such as scrublet.\n",
    "\n",
    "<br>\n",
    "NOTE: Cell Ranger Count function autmatically filtered out cells with less than 500 UMI counts (might not be the best for heterogenous data). <br>\n",
    "For more information see: https://www.10xgenomics.com/resources/analysis-guides/common-considerations-for-quality-control-filters-for-single-cell-rna-seq-data "
   ]
  },
  {
   "cell_type": "code",
   "execution_count": null,
   "id": "c4c606e3",
   "metadata": {},
   "outputs": [],
   "source": [
    "min_counts = 500 #default\n",
    "#max_counts = 50000\n",
    "min_genes = 500\n",
    "#max_genes = 10000\n",
    "min_cells = 3\n",
    "\n",
    "\n",
    "\n",
    "for i in range(numberobj):\n",
    "    locals()[object_names_preprocessed[i]] = locals()[object_names_preprocessed[i]][locals()[object_names_preprocessed[i]].obs['total_counts']>=min_counts]\n",
    "    #locals()[object_names_preprocessed[i]] = locals()[object_names_preprocessed[i]][locals()[object_names_preprocessed[i]].obs['total_counts'] < max_counts[i] ]\n",
    "    locals()[object_names_preprocessed[i]] = locals()[object_names_preprocessed[i]][locals()[object_names_preprocessed[i]].obs['n_genes'] >= min_genes]\n",
    "    #locals()[object_names_preprocessed[i]] = locals()[object_names_preprocessed[i]][locals()[object_names_preprocessed[i]].obs['n_genes'] < max_genes]\n",
    "    \n",
    "    sc.pp.filter_genes(locals()[object_names_preprocessed[i]], min_cells=min_cells)"
   ]
  },
  {
   "cell_type": "markdown",
   "id": "850c6328",
   "metadata": {},
   "source": [
    "### Recalculate metrics"
   ]
  },
  {
   "cell_type": "code",
   "execution_count": null,
   "id": "db1c8205",
   "metadata": {
    "scrolled": true
   },
   "outputs": [],
   "source": [
    "for i in range(numberobj):\n",
    "    sc.pp.calculate_qc_metrics(locals()[object_names_preprocessed[i]], expr_type='counts', var_type='genes', qc_vars=(), percent_top= (), layer= None, use_raw= False, inplace=True, log1p=True)\n",
    "    print(locals()[object_names_preprocessed[i]])\n",
    "    print(locals()[object_names_preprocessed[i]].obs['total_counts'])"
   ]
  },
  {
   "cell_type": "code",
   "execution_count": null,
   "id": "05375037",
   "metadata": {},
   "outputs": [],
   "source": [
    "object_names_filtered =list()\n",
    "\n",
    "for i in range(numberobj):\n",
    "    object_names_filtered.append(\"adata\"+\"_\"+names[i])\n",
    "    locals()[object_names_preprocessed[i]] = locals()[object_names_preprocessed[i]].copy()"
   ]
  },
  {
   "cell_type": "code",
   "execution_count": null,
   "id": "b5b06276",
   "metadata": {},
   "outputs": [],
   "source": [
    "for i in range(numberobj):\n",
    "    locals()[object_names_preprocessed[i]].write(os.path.join('data/filtered_wang_base_'+object_names_filtered[i][6:]+'.h5ad'))"
   ]
  },
  {
   "cell_type": "code",
   "execution_count": null,
   "id": "c7514b95",
   "metadata": {
    "scrolled": false
   },
   "outputs": [],
   "source": [
    "!ls data"
   ]
  },
  {
   "cell_type": "code",
   "execution_count": null,
   "id": "3fbdd8a3",
   "metadata": {},
   "outputs": [],
   "source": []
  }
 ],
 "metadata": {
  "kernelspec": {
   "display_name": "Python 3",
   "language": "python",
   "name": "python3"
  },
  "language_info": {
   "codemirror_mode": {
    "name": "ipython",
    "version": 3
   },
   "file_extension": ".py",
   "mimetype": "text/x-python",
   "name": "python",
   "nbconvert_exporter": "python",
   "pygments_lexer": "ipython3",
   "version": "3.9.9"
  }
 },
 "nbformat": 4,
 "nbformat_minor": 5
}
