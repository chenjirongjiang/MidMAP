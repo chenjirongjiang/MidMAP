{
 "cells": [
  {
   "cell_type": "markdown",
   "id": "a62222f0",
   "metadata": {},
   "source": [
    "# Preprocessing atlas: Agarwal"
   ]
  },
  {
   "cell_type": "markdown",
   "id": "1a506ab2",
   "metadata": {},
   "source": [
    "<div class=\"alert alert-warning\">\n",
    "\n",
    "**What this notebook does**\n",
    "\n",
    "In this notebook, the count table of the Human atlas of Agarwal et.al. will be loaded into scanpy and be annotated for future processing, integration and downstream analysis.\n",
    "</div>  \n",
    "\n"
   ]
  },
  {
   "cell_type": "markdown",
   "id": "0a6c52c7",
   "metadata": {},
   "source": [
    "### Loading libraries\n",
    "Using sc2_seurat environment, importing packages and setting parameters."
   ]
  },
  {
   "cell_type": "code",
   "execution_count": null,
   "id": "57ef4c21",
   "metadata": {
    "scrolled": false
   },
   "outputs": [],
   "source": [
    "import sys\n",
    "print(sys.executable)\n",
    "print(sys.version)\n",
    "print(sys.version_info)"
   ]
  },
  {
   "cell_type": "code",
   "execution_count": null,
   "id": "bdf6dd78",
   "metadata": {},
   "outputs": [],
   "source": [
    "from IPython.display import display, HTML\n",
    "display(HTML(\"<style>.container { width:90% !important; }</style>\"))#embed HTML within IPython notebook and make containers 90% of screen\n",
    "import numpy as np\n",
    "import pandas as pd\n",
    "import scanpy as sc\n",
    "import anndata as ad\n",
    "import os\n",
    "import matplotlib.pyplot as plt\n",
    "import h5py\n",
    "import scipy\n",
    "import GEOparse\n",
    "\n",
    "%matplotlib inline\n",
    "sc.settings.verbosity = 0             # verbosity: errors (0), warnings (1), info (2), hints (3)\n",
    "sc.settings.set_figure_params(dpi=80, facecolor='white') #figure resolution and background color\n",
    "\n",
    "# This is used\n",
    "# os.path.join('data/'+object_names[i][6:10]+'_preprocessed.h5ad')\n",
    "#sc.logging.print_versions()"
   ]
  },
  {
   "cell_type": "markdown",
   "id": "45bf5ce7",
   "metadata": {},
   "source": [
    "### h5 files"
   ]
  },
  {
   "cell_type": "code",
   "execution_count": null,
   "id": "286ab706",
   "metadata": {},
   "outputs": [],
   "source": [
    "path='/home/hers_basak/jjiang/jack/outputs/count_files/homo_sap/agarwal_2021'\n",
    "\n",
    "GSM4157068=f'{path}/GSM4157068/outs/GSM4157068_cellbender_filtered.h5'\n",
    "GSM4157069=f'{path}/GSM4157069/outs/GSM4157069_cellbender_filtered.h5'\n",
    "GSM4157070=f'{path}/GSM4157070/outs/GSM4157070_cellbender_filtered.h5'\n",
    "GSM4157072=f'{path}/GSM4157072/outs/GSM4157072_cellbender_filtered.h5'\n",
    "GSM4157074=f'{path}/GSM4157074/outs/GSM4157074_cellbender_filtered.h5'\n",
    "GSM4157076=f'{path}/GSM4157076/outs/GSM4157076_cellbender_filtered.h5'\n",
    "GSM4157078=f'{path}/GSM4157078/outs/GSM4157078_cellbender_filtered.h5'"
   ]
  },
  {
   "cell_type": "code",
   "execution_count": null,
   "id": "11d176d9",
   "metadata": {},
   "outputs": [],
   "source": [
    "#set data path\n",
    "os.chdir('/home/hers_basak/jjiang/jack/outputs/deliverables/1_preprocessing')"
   ]
  },
  {
   "cell_type": "code",
   "execution_count": null,
   "id": "654cf41b",
   "metadata": {
    "scrolled": false
   },
   "outputs": [],
   "source": [
    "os.getcwd()"
   ]
  },
  {
   "cell_type": "code",
   "execution_count": null,
   "id": "1037c026",
   "metadata": {},
   "outputs": [],
   "source": [
    "a = \"GSM4157068,GSM4157069,GSM4157070,GSM4157072,GSM4157074,GSM4157076,GSM4157078\"\n",
    "print(a.split(','))"
   ]
  },
  {
   "cell_type": "markdown",
   "id": "7b75bb21",
   "metadata": {},
   "source": [
    "## Load data"
   ]
  },
  {
   "cell_type": "code",
   "execution_count": null,
   "id": "518f81e4",
   "metadata": {
    "scrolled": true
   },
   "outputs": [],
   "source": [
    "files = [GSM4157068,GSM4157069,GSM4157070,GSM4157072,GSM4157074,GSM4157076,GSM4157078]\n",
    "names = ['GSM4157068', 'GSM4157069', 'GSM4157070', 'GSM4157072', 'GSM4157074', 'GSM4157076', 'GSM4157078']\n",
    "\n",
    "numberobj = len(names)\n",
    "\n",
    "object_names = list()\n",
    "\n",
    "#locals() returns dictionary with all local variables and symbols\n",
    "for i in range(numberobj):\n",
    "    locals()[\"adata\"+\"_\"+names[i]] = sc.read_10x_h5(files[i])\n",
    "    locals()[\"adata\"+\"_\"+names[i]].var_names_make_unique()\n",
    "    print(\"adata\"+\"_\"+names[i],\"is loaded\")\n",
    "    \n",
    "    object_names.append(\"adata\"+\"_\"+names[i]) # make list of objects for later"
   ]
  },
  {
   "cell_type": "markdown",
   "id": "ebc97111",
   "metadata": {},
   "source": [
    "## Basic Preprocessing\n",
    "### Doublet detection using scrublet\n",
    "Doublets are droplets that captures two cells, which will lead to inconsistencies. So we need to detect and remove them. First we will annotate the objects with metadata.\n",
    "\n",
    "https://github.com/swolock/scrublet\n",
    "https://www.sciencedirect.com/science/article/pii/S2405471218304745\n",
    "\n",
    "Following the advice of Chromium (below). The expected cells are: \\\n",
    "['2036', '1504', '1171', '733', '2058', '1928', '1400'] \\\n",
    "and expected doublet rates: \\\n",
    "[0.0163, 0.012, 0.0094, 0.0069, 0.0164, 0.0154, 0.0112] \\\n",
    "for: \\\n",
    "[GSM4157068,GSM4157069,GSM4157070,GSM4157072,GSM4157074,GSM4157076,GSM4157078]\n",
    "\n",
    "> https://uofuhealth.utah.edu/huntsman/shared-resources/gba/htg/single-cell/genomics-10x.php\n",
    "\n",
    "\\\n",
    "First check the recommended threshold by scrublet (minimum mode of real and simulate data). With good bimodel distribution it should be fine otherwise set a threshold manually.\n"
   ]
  },
  {
   "cell_type": "code",
   "execution_count": null,
   "id": "87cfa267",
   "metadata": {
    "scrolled": false
   },
   "outputs": [],
   "source": [
    "names"
   ]
  },
  {
   "cell_type": "code",
   "execution_count": null,
   "id": "4d3d9acb",
   "metadata": {
    "scrolled": true
   },
   "outputs": [],
   "source": [
    "numberobj"
   ]
  },
  {
   "cell_type": "code",
   "execution_count": null,
   "id": "843de9ab",
   "metadata": {
    "scrolled": true
   },
   "outputs": [],
   "source": [
    "#manually adding metadata due to lack of metadata file\n",
    "for i in range(numberobj):\n",
    "    locals()[object_names[i]].obs['species'] = ['Homo sapien','Homo sapien','Homo sapien','Homo sapien','Homo sapien','Homo sapien','Homo sapien'][i]\n",
    "    locals()[object_names[i]].obs['gender'] = ['male','male','female','male','male','male','female'][i]\n",
    "    locals()[object_names[i]].obs['age'] = [59,70,56,70,55,70,56][i]\n",
    "    locals()[object_names[i]].obs['instrument'] = ['Illumina HiSeq 4000','Illumina HiSeq 4000','Illumina HiSeq 4000','Illumina HiSeq 4000','Illumina HiSeq 4000','Illumina HiSeq 4000','Illumina HiSeq 4000'][i]\n",
    "    locals()[object_names[i]].obs['technology'] = ['10x_v3','10x_v3','10x_v3','10x_v3','10x_v3','10x_v3','10x_v3'][i]\n",
    "    locals()[object_names[i]].obs['atlas'] = ['agarwal','agarwal','agarwal','agarwal','agarwal','agarwal','agarwal'][i]\n",
    "    locals()[object_names[i]].obs['sample'] = ['GSM4157068', 'GSM4157069', 'GSM4157070', 'GSM4157072', 'GSM4157074', 'GSM4157076', 'GSM4157078'][i]\n",
    "    locals()[object_names[i]].obs['batch_1'] = ['day_1','day_1','day_1','day_2','day_2','day_2','day_2'][i]\n",
    "    \n",
    "#viewing object annotations\n",
    "for i in range(numberobj):\n",
    "    print(locals()[object_names[i]].shape)\n",
    "    \n",
    "\n",
    "thr = None\n",
    "expected_doublet_rates = [0.0163, 0.012, 0.0094, 0.0069, 0.0164, 0.0154, 0.0112]\n",
    "for i in range(numberobj):\n",
    "    #predicts doublets and adds a score to objects\n",
    "    sc.external.pp.scrublet(locals()[object_names[i]], expected_doublet_rate=expected_doublet_rates[i], stdev_doublet_rate=0.02, \n",
    "                            synthetic_doublet_umi_subsampling=1.0, knn_dist_metric='euclidean', normalize_variance=True, \n",
    "                            log_transform=False, mean_center=True, n_prin_comps=30, use_approx_neighbors=True, \n",
    "                            get_doublet_neighbor_parents=False, n_neighbors=None, threshold=thr, verbose=True, copy=False, random_state=0)\n",
    "    #plot histogram of doublet scores(doesnt work in loop)\n",
    "    sc.external.pl.scrublet_score_distribution(locals()[object_names[i]], scale_hist_obs='log', scale_hist_sim='linear', figsize=(8, 3),\n",
    "                                               show=True,return_fig=True)\n"
   ]
  },
  {
   "cell_type": "markdown",
   "id": "c5f6d7a6",
   "metadata": {},
   "source": [
    "Check how many cells are higher than the threshold"
   ]
  },
  {
   "cell_type": "code",
   "execution_count": null,
   "id": "7dfe4ace",
   "metadata": {
    "scrolled": true
   },
   "outputs": [],
   "source": [
    "for i in range(numberobj):\n",
    "    print(names[i],'\\n',locals()[object_names[i]].obs['predicted_doublet'].value_counts(),'\\n')"
   ]
  },
  {
   "cell_type": "markdown",
   "id": "60471df7",
   "metadata": {},
   "source": [
    "### Scrublet simulation plot"
   ]
  },
  {
   "cell_type": "code",
   "execution_count": null,
   "id": "96d0ed67",
   "metadata": {
    "scrolled": true
   },
   "outputs": [],
   "source": [
    "%matplotlib inline\n",
    "for i in range(numberobj):\n",
    "    print(names[i])\n",
    "    sc.external.pl.scrublet_score_distribution(locals()[object_names[i]], scale_hist_obs='log', scale_hist_sim='linear', figsize=(8, 3),show=True,return_fig=True)"
   ]
  },
  {
   "cell_type": "markdown",
   "id": "25c71db8",
   "metadata": {},
   "source": [
    "### Add QC and get rid of mitochondrial genes"
   ]
  },
  {
   "cell_type": "markdown",
   "id": "7d4b6bf7",
   "metadata": {},
   "source": [
    "<b> check this: sc.pp.calculate_qc_metrics() </b> <br>\n",
    "expr_type: kind of values in X (str)<br>\n",
    "var_type: kind of variables (str)<br>\n",
    "qc_vars: keys for variables you want to control (collection of str)<br>\n",
    "percent_top: proportions of top genes to cover, for cummulative proportion of counts (collection of int)<br>\n",
    "layer: alternative layers for expression data (str)<br>\n",
    "use_raw: use adata.raw.X for expression values (bool)<br>\n",
    "inplace: place metrics in adata (bool)<br>\n",
    "log1p: compute log1p transformed annotations, for very small values (bool)<br>\n",
    "<br>\n",
    "<b> return features obs </b> <br>\n",
    "n_genes_by_counts: The number of genes with at least 1 count in a cell. <br>\n",
    "total_counts: Total number of counts for a cell. <br>\n",
    "total_counts_mt:Total number of mt gene counts for a cell. <br>\n",
    "pct_counts_mt: Proportion (%) of total counts for a cell which are mitochondrial. <br> \n",
    "n_genes: Number of genes with a positive count. <br>\n",
    "total_counts_ribo: Total number of ribosomal counts for a cell. <br>\n",
    "pct_counts_ribo: Proportion of total counts for a cell which are ribosomal."
   ]
  },
  {
   "cell_type": "code",
   "execution_count": null,
   "id": "6fe258c6",
   "metadata": {
    "scrolled": true
   },
   "outputs": [],
   "source": [
    "import numpy as np\n",
    "\n",
    "for i in range(numberobj):\n",
    "    #add mt variable annotation indicating if a gene is ribosomal or not (bool)\n",
    "    if locals()[object_names[i]].obs['species'][0] == 'Homo sapien':\n",
    "        locals()[object_names[i]].var['mt'] = locals()[object_names[i]].var_names.str.startswith('MT-')\n",
    "    elif locals()[object_names[i]].obs['species'][0] == 'Mus musculus':\n",
    "        locals()[object_names[i]].var['mt'] = locals()[object_names[i]].var_names.str.startswith('mt-') \n",
    "        \n",
    "    if locals()[object_names[i]].obs['species'][0] == 'Homo sapien':\n",
    "        locals()[object_names[i]].var['ribo'] = locals()[object_names[i]].var_names.str.startswith('RP')\n",
    "    elif locals()[object_names[i]].obs['species'][0] == 'Mus musculus':\n",
    "        locals()[object_names[i]].var['ribo'] = locals()[object_names[i]].var_names.str.startswith('Rp')\n",
    "    \n",
    "    sc.pp.calculate_qc_metrics(locals()[object_names[i]], expr_type='counts', var_type='genes', qc_vars=('mt','ribo'), percent_top= (), layer= None, use_raw= False, inplace=True, log1p=True)\n",
    "     \n",
    "    locals()[object_names[i]].var_names_make_unique()\n",
    "    sc.pp.filter_cells(locals()[object_names[i]], min_genes=1) #remove all cells with 0 genes\n",
    "                 \n",
    "    # The following is to solve a save issue. Probably because of the NA valies in ther 'predicted_doublet' slot\n",
    "    locals()[object_names[i]].obs['predicted_doublet'] =  locals()[object_names[i]].obs['predicted_doublet'].astype('str')\n",
    "\n",
    "    "
   ]
  },
  {
   "cell_type": "code",
   "execution_count": null,
   "id": "4639deba",
   "metadata": {},
   "outputs": [],
   "source": [
    "adata_GSM4157076[adata_GSM4157076.obs['doublet_score'].isnull()]"
   ]
  },
  {
   "cell_type": "markdown",
   "id": "5f1bfb49",
   "metadata": {},
   "source": [
    "Checking median number of mitochondrial genes, genes and UMIs per cell to have an idea of the quality of each run:"
   ]
  },
  {
   "cell_type": "code",
   "execution_count": null,
   "id": "b466d148",
   "metadata": {},
   "outputs": [],
   "source": [
    "print(\"Median numbers before filtering mt genes\")\n",
    "for i in range(numberobj):\n",
    "    print(\n",
    "         object_names[i],'\\n',\"\\tmean mito%:\",np.mean(locals()[object_names[i]].obs['pct_counts_mt']),'\\n',\n",
    "        \"\\tmedian genes/nuclei:\",np.median(locals()[object_names[i]].obs['n_genes']),'\\n', \n",
    "            \"\\tmedian reads/nuclei:\",np.median(locals()[object_names[i]].obs['total_counts']),'\\n',\n",
    "           \"\\tmean genes/nuclei:\",int(np.mean(locals()[object_names[i]].obs['n_genes'])),'\\n',\n",
    "         \"\\tmean reads/nuclei:\",  int(np.mean(locals()[object_names[i]].obs['total_counts'])), '\\n')\n",
    "    "
   ]
  },
  {
   "cell_type": "markdown",
   "id": "b4356ebd",
   "metadata": {},
   "source": [
    "Filtering out mito genes to determine number of non mitochondrial genes:"
   ]
  },
  {
   "cell_type": "code",
   "execution_count": null,
   "id": "fc7ed008",
   "metadata": {},
   "outputs": [],
   "source": [
    "for i in range(numberobj):\n",
    "    #list all non mitochondrial genes for subsetting the columns\n",
    "    if locals()[object_names[i]].obs['species'][0] == 'Homo sapien':\n",
    "         non_mito_genes_list = [name for name in locals()[object_names[i]].var_names if not name.startswith('MT-')]\n",
    "    elif locals()[object_names[i]].obs['species'][0] == 'Mus musculus':\n",
    "        non_mito_genes_list = [name for name in locals()[object_names[i]].var_names if not name.startswith('mt-')]\n",
    "    \n",
    "    \n",
    "    locals()[object_names[i]] = locals()[object_names[i]][:, non_mito_genes_list].copy()\n",
    "    \n",
    "    locals()[object_names[i]].obs['total_counts_mito'] =  locals()[object_names[i]].obs['total_counts']\n",
    "    \n",
    "    \n",
    "    #recalculate the number of genes, because some cells only had mt gene counts\n",
    "    sc.pp.filter_cells(locals()[object_names[i]], min_genes=1)"
   ]
  },
  {
   "cell_type": "markdown",
   "id": "072444f7",
   "metadata": {},
   "source": [
    "### Recalculate metrics \n",
    "Note that the qc_vars=None because we want to keep the mt%.\"\n"
   ]
  },
  {
   "cell_type": "code",
   "execution_count": null,
   "id": "73e4ce3f",
   "metadata": {},
   "outputs": [],
   "source": [
    "for i in range(numberobj):\n",
    "    sc.pp.calculate_qc_metrics(locals()[object_names[i]], expr_type='counts', var_type='genes', qc_vars=(), percent_top= (), layer= None, use_raw= False, inplace=True, log1p=True)"
   ]
  },
  {
   "cell_type": "markdown",
   "id": "db7663c9",
   "metadata": {},
   "source": [
    "Check for the basic statistics"
   ]
  },
  {
   "cell_type": "code",
   "execution_count": null,
   "id": "1235cc3e",
   "metadata": {},
   "outputs": [],
   "source": [
    "sc.set_figure_params(figsize=[8,8])"
   ]
  },
  {
   "cell_type": "code",
   "execution_count": null,
   "id": "02088ef0",
   "metadata": {
    "scrolled": false
   },
   "outputs": [],
   "source": [
    "%matplotlib inline\n",
    "for i in range(numberobj):\n",
    "    sc.pl.violin(locals()[object_names[i]], ['n_genes', 'total_counts', 'pct_counts_mt','pct_counts_ribo'],\n",
    "             jitter=0.4, multi_panel=True,size =1)#,save= object_names[i]+\"_prefilter_all.pdf\")\n",
    "    plt.show()"
   ]
  },
  {
   "cell_type": "code",
   "execution_count": null,
   "id": "1e05cb02",
   "metadata": {
    "scrolled": true
   },
   "outputs": [],
   "source": [
    "print(\"Median numbers without mitochondrial reads\\n\")\n",
    "\n",
    "\n",
    "for i in range(numberobj):\n",
    "    median_counts = np.median(locals()[object_names[i]].obs['total_counts_mito'])\n",
    "    mean_counts= int(np.mean(locals()[object_names[i]].obs['total_counts_mito']))\n",
    "\n",
    "    median_counts_mito = np.median(locals()[object_names[i]].obs['total_counts']) \n",
    "    mean_counts_mito =int(np.mean(locals()[object_names[i]].obs['total_counts']))\n",
    "\n",
    "    median_difference = median_counts - median_counts_mito \n",
    "    mean_difference = mean_counts -  mean_counts_mito\n",
    "    \n",
    "    pct_median_diff = median_difference / median_counts\n",
    "    pct_mean_diff = mean_difference/mean_counts\n",
    "    \n",
    "    print(object_names[i],'\\n',\"\\tmedian genes/nuclei:\",np.median(locals()[object_names[i]].obs['n_genes']), '\\n',\n",
    "            \"\\tmedian reads/nuclei:\",median_counts, '(',median_difference,'\\t', pct_median_diff,'%',')','\\n',\n",
    "           \"\\tmean genes/nuclei:\",int(np.mean(locals()[object_names[i]].obs['n_genes'])),'\\n',\n",
    "         \"\\tmean reads/nuclei:\", mean_counts, '(',mean_difference,'\\t', pct_mean_diff,'%',')','\\n')"
   ]
  },
  {
   "cell_type": "markdown",
   "id": "fa827647",
   "metadata": {},
   "source": [
    "### Save preprocessed files"
   ]
  },
  {
   "cell_type": "code",
   "execution_count": null,
   "id": "1cd6e895",
   "metadata": {
    "scrolled": true
   },
   "outputs": [],
   "source": [
    "for i in range(numberobj):\n",
    "    locals()[object_names[i]].write(os.path.join('data/preprocessed_agarwal_'+object_names[i][6:]+'.h5ad'))"
   ]
  },
  {
   "cell_type": "code",
   "execution_count": null,
   "id": "f2936933",
   "metadata": {},
   "outputs": [],
   "source": [
    "!ls data/"
   ]
  },
  {
   "cell_type": "code",
   "execution_count": null,
   "id": "eb8af9c1",
   "metadata": {},
   "outputs": [],
   "source": []
  }
 ],
 "metadata": {
  "kernelspec": {
   "display_name": "Python 3",
   "language": "python",
   "name": "python3"
  },
  "language_info": {
   "codemirror_mode": {
    "name": "ipython",
    "version": 3
   },
   "file_extension": ".py",
   "mimetype": "text/x-python",
   "name": "python",
   "nbconvert_exporter": "python",
   "pygments_lexer": "ipython3",
   "version": "3.9.9"
  }
 },
 "nbformat": 4,
 "nbformat_minor": 5
}
